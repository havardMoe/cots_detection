{
 "cells": [
  {
   "cell_type": "code",
   "execution_count": 1,
   "metadata": {},
   "outputs": [],
   "source": [
    "import tensorflow as tf\n",
    "import os"
   ]
  },
  {
   "cell_type": "code",
   "execution_count": 2,
   "metadata": {},
   "outputs": [
    {
     "data": {
      "text/plain": [
       "[PhysicalDevice(name='/physical_device:CPU:0', device_type='CPU'),\n",
       " PhysicalDevice(name='/physical_device:GPU:0', device_type='GPU')]"
      ]
     },
     "execution_count": 2,
     "metadata": {},
     "output_type": "execute_result"
    }
   ],
   "source": [
    "tf.config.list_physical_devices() # See available physical devices"
   ]
  },
  {
   "cell_type": "code",
   "execution_count": 29,
   "metadata": {},
   "outputs": [
    {
     "name": "stdout",
     "output_type": "stream",
     "text": [
      "False\n",
      "False\n",
      "False\n",
      "False\n",
      "False\n",
      "False\n",
      "False\n"
     ]
    }
   ],
   "source": [
    "# Create work space\n",
    "\n",
    "base_dir = os.path.normpath(os.getcwd() + os.sep + os.pardir)\n",
    "data_dir = os.path.join(base_dir,'data')\n",
    "\n",
    "if not os.path.exists(os.path.join(data_dir,'training_data')):\n",
    "    os.mkdir(os.path.join(data_dir,'training_data'))\n",
    "\n",
    "train_dir = os.path.join(data_dir,'training_data')\n",
    "create_dirs = ['annotations','exported-models','images',os.path.join('images','train'),os.path.join('images','test'),'models','pre-trained-models']\n",
    "for dir in create_dirs:\n",
    "    exists = os.path.exists(os.path.join(data_dir,dir))\n",
    "    print(exists)\n",
    "   if not exists:\n",
    "        os.mkdir(os.path.join(train_dir,dir))\n"
   ]
  },
  {
   "cell_type": "code",
   "execution_count": 3,
   "metadata": {},
   "outputs": [
    {
     "ename": "IndentationError",
     "evalue": "expected an indented block (1053332619.py, line 3)",
     "output_type": "error",
     "traceback": [
      "\u001b[0;36m  Input \u001b[0;32mIn [3]\u001b[0;36m\u001b[0m\n\u001b[0;31m    # Do training here\u001b[0m\n\u001b[0m                      ^\u001b[0m\n\u001b[0;31mIndentationError\u001b[0m\u001b[0;31m:\u001b[0m expected an indented block\n"
     ]
    }
   ],
   "source": [
    "# Using local computer GPU\n",
    "with tf.device('/GPU'):\n",
    "    # Do training here"
   ]
  }
 ],
 "metadata": {
  "interpreter": {
   "hash": "4cc2740515b041fd7abc7eb1e77c8b2d2a718c298b44c5e596e19940f3725ba7"
  },
  "kernelspec": {
   "display_name": "Python 3.9.12 ('tf_metal')",
   "language": "python",
   "name": "python3"
  },
  "language_info": {
   "codemirror_mode": {
    "name": "ipython",
    "version": 3
   },
   "file_extension": ".py",
   "mimetype": "text/x-python",
   "name": "python",
   "nbconvert_exporter": "python",
   "pygments_lexer": "ipython3",
   "version": "3.9.12"
  },
  "orig_nbformat": 4
 },
 "nbformat": 4,
 "nbformat_minor": 2
}
